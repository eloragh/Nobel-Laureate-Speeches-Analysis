{
 "cells": [
  {
   "cell_type": "markdown",
   "metadata": {},
   "source": [
    "# Nobel Peace Prize Speech Analysis\n",
    "\n",
    "## This notebook walks through how I analyzed "
   ]
  },
  {
   "cell_type": "code",
   "execution_count": 1,
   "metadata": {},
   "outputs": [],
   "source": [
    "import pathlib\n",
    "import os\n",
    "import nltk\n",
    "import re\n",
    "from collections import Counter\n",
    "from nltk.corpus import stopwords "
   ]
  },
  {
   "cell_type": "code",
   "execution_count": 2,
   "metadata": {},
   "outputs": [],
   "source": [
    "dir = \"/Users/eloraghespie/Documents/GitHub/nobel_speeches_freq_analysis-1\"\n",
    "\n",
    "nobel_speeches = os.listdir(dir + \"/nobelspeeches\")"
   ]
  },
  {
   "cell_type": "code",
   "execution_count": 5,
   "metadata": {},
   "outputs": [
    {
     "ename": "FileNotFoundError",
     "evalue": "[Errno 2] No such file or directory: 'file'",
     "output_type": "error",
     "traceback": [
      "\u001b[0;31m---------------------------------------------------------------------------\u001b[0m",
      "\u001b[0;31mFileNotFoundError\u001b[0m                         Traceback (most recent call last)",
      "\u001b[1;32m/Users/eloraghespie/Documents/GitHub/nobel_speeches_freq_analysis-1/Untitled-1.ipynb Cell 4\u001b[0m in \u001b[0;36m<cell line: 3>\u001b[0;34m()\u001b[0m\n\u001b[1;32m      <a href='vscode-notebook-cell:/Users/eloraghespie/Documents/GitHub/nobel_speeches_freq_analysis-1/Untitled-1.ipynb#W3sZmlsZQ%3D%3D?line=0'>1</a>\u001b[0m vocab_dict \u001b[39m=\u001b[39m {}\n\u001b[1;32m      <a href='vscode-notebook-cell:/Users/eloraghespie/Documents/GitHub/nobel_speeches_freq_analysis-1/Untitled-1.ipynb#W3sZmlsZQ%3D%3D?line=2'>3</a>\u001b[0m \u001b[39mfor\u001b[39;00m file \u001b[39min\u001b[39;00m nobel_speeches:\n\u001b[0;32m----> <a href='vscode-notebook-cell:/Users/eloraghespie/Documents/GitHub/nobel_speeches_freq_analysis-1/Untitled-1.ipynb#W3sZmlsZQ%3D%3D?line=3'>4</a>\u001b[0m     file \u001b[39m=\u001b[39m \u001b[39mopen\u001b[39;49m(\u001b[39mr\u001b[39;49m\u001b[39m\"\u001b[39;49m\u001b[39mfile\u001b[39;49m\u001b[39m\"\u001b[39;49m)\n\u001b[1;32m      <a href='vscode-notebook-cell:/Users/eloraghespie/Documents/GitHub/nobel_speeches_freq_analysis-1/Untitled-1.ipynb#W3sZmlsZQ%3D%3D?line=4'>5</a>\u001b[0m     \u001b[39mlist\u001b[39m \u001b[39m=\u001b[39m [word \u001b[39mfor\u001b[39;00m word \u001b[39min\u001b[39;00m file]\n\u001b[1;32m      <a href='vscode-notebook-cell:/Users/eloraghespie/Documents/GitHub/nobel_speeches_freq_analysis-1/Untitled-1.ipynb#W3sZmlsZQ%3D%3D?line=5'>6</a>\u001b[0m     \u001b[39mfor\u001b[39;00m word \u001b[39min\u001b[39;00m \u001b[39mlist\u001b[39m:\n",
      "\u001b[0;31mFileNotFoundError\u001b[0m: [Errno 2] No such file or directory: 'file'"
     ]
    }
   ],
   "source": [
    "vocab_dict = {}\n",
    "\n",
    "for file in nobel_speeches:\n",
    "    file = open(r\"file\")\n",
    "    list = [word for word in file]\n",
    "    for word in list:\n",
    "        if word in vocab_dict:\n",
    "            vocab_dict[word] += 1\n",
    "        else:\n",
    "            if word not in stopwords:\n",
    "                vocab_dict[word] = 1\n",
    "\n",
    "vocab_dict"
   ]
  }
 ],
 "metadata": {
  "kernelspec": {
   "display_name": "Python 3.10.6 64-bit",
   "language": "python",
   "name": "python3"
  },
  "language_info": {
   "codemirror_mode": {
    "name": "ipython",
    "version": 3
   },
   "file_extension": ".py",
   "mimetype": "text/x-python",
   "name": "python",
   "nbconvert_exporter": "python",
   "pygments_lexer": "ipython3",
   "version": "3.10.6"
  },
  "orig_nbformat": 4,
  "vscode": {
   "interpreter": {
    "hash": "aee8b7b246df8f9039afb4144a1f6fd8d2ca17a180786b69acc140d282b71a49"
   }
  }
 },
 "nbformat": 4,
 "nbformat_minor": 2
}
