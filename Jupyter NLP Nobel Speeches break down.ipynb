{
 "cells": [
  {
   "cell_type": "code",
   "execution_count": 1,
   "id": "98988f6d",
   "metadata": {},
   "outputs": [],
   "source": [
    "import pandas as pd\n",
    "import nltk\n",
    "import os\n",
    "from nltk.tokenize import PunktSentenceTokenizer\n",
    "from collections import Counter\n",
    "from nltk.corpus import stopwords "
   ]
  },
  {
   "cell_type": "code",
   "execution_count": 2,
   "id": "aa6ac14a",
   "metadata": {},
   "outputs": [],
   "source": [
    "stop_words = set(stopwords.words('english'))\n",
    "#initialize pandas Dataframe for later use\n",
    "df = pd.DataFrame()"
   ]
  },
  {
   "cell_type": "code",
   "execution_count": 3,
   "id": "4e0c773f",
   "metadata": {
    "scrolled": false
   },
   "outputs": [],
   "source": [
    "#define the path where the speech files are found\n",
    "path = \"nobelspeeches\"\n",
    "nobel_speeches = os.listdir(path)\n",
    "\n",
    "#join the path with the files to find the appropriate file when looking for it\n",
    "files = sorted([os.path.join(path, file) for file in nobel_speeches if file.endswith('.txt')])"
   ]
  },
  {
   "cell_type": "code",
   "execution_count": 4,
   "id": "36732968",
   "metadata": {},
   "outputs": [],
   "source": [
    "#create a function that will open the file read it, making the text available in python\n",
    "def read_file(file_name):\n",
    "  #open the file with the correct encoding and save it to a variable \"file\"\n",
    "  with open(file_name, 'r+', encoding='utf-8') as file:\n",
    "    #read the file and save it to a variable \"file_text\"\n",
    "    file_text = file.read()\n",
    "   #return the text for use outside of the function \n",
    "  return file_text"
   ]
  },
  {
   "cell_type": "code",
   "execution_count": 5,
   "id": "18ef2c1f",
   "metadata": {},
   "outputs": [],
   "source": [
    "#call the read_file function for all of the documents in the folder\n",
    "speeches = [read_file(doc) for doc in files]"
   ]
  },
  {
   "cell_type": "code",
   "execution_count": 6,
   "id": "f2b9fa69",
   "metadata": {},
   "outputs": [],
   "source": [
    "#create a function that will process the data\n",
    "def process_speeches(speeches):\n",
    "  #create a new list to append the cleaned data to\n",
    "  word_tokenized_speeches = list()\n",
    "  #loop through each speech in the argument\n",
    "  for speech in speeches:\n",
    "    #initialize the sentence Tokenizer\n",
    "    sentence_tokenizer = PunktSentenceTokenizer()\n",
    "    #apply the sentence tokenizer to the speech\n",
    "    sentence_tokenized_speech = sentence_tokenizer.tokenize(speech)\n",
    "    #create a new list to append the tokenized sentences too\n",
    "    word_tokenized_sentences = list()\n",
    "    #loop through each sentence in the tokenized speech\n",
    "    for sentence in sentence_tokenized_speech:\n",
    "      #strip each sentence of punctuation and split them into words\n",
    "      word_tokenized_sentence = [word.lower().strip('.').strip('?').strip('!') for word in sentence.replace(\",\",\"\").replace(\"-\",\" \").replace(\":\",\"\").split()]\n",
    "      #append the stripped sentences to the new list\n",
    "      word_tokenized_sentences.append(word_tokenized_sentence)\n",
    "    #append the cleaned sentences to the original list\n",
    "    word_tokenized_speeches.append(word_tokenized_sentences)\n",
    "  #return the original list for us outside of the function\n",
    "  return word_tokenized_speeches"
   ]
  },
  {
   "cell_type": "code",
   "execution_count": 7,
   "id": "2a3665a3",
   "metadata": {},
   "outputs": [],
   "source": [
    "processed_text = process_speeches(speeches)\n",
    "#print to make sure the function works (can be commented out)\n",
    "#print(processed_text)"
   ]
  },
  {
   "cell_type": "code",
   "execution_count": 8,
   "id": "218d3494",
   "metadata": {},
   "outputs": [],
   "source": [
    "#define a function that will merge all of the speeches together into one pool\n",
    "def merge_speeches(speeches):\n",
    "  #create an empty list to append the sentences too\n",
    "  all_sentences = list()\n",
    "  #loop through each speech in the processed text\n",
    "  for speech in speeches:\n",
    "    #loop through each sentence in the speech\n",
    "    for sentence in speech:\n",
    "      #append each sentence to the new list\n",
    "      all_sentences.append(sentence)\n",
    "  #return the list\n",
    "  return all_sentences"
   ]
  },
  {
   "cell_type": "code",
   "execution_count": 9,
   "id": "fa0d964c",
   "metadata": {},
   "outputs": [],
   "source": [
    "#call the function and print it to make sure it works (can be commented out)\n",
    "merged_speeches = merge_speeches(processed_text)\n",
    "#print(merged_speeches)"
   ]
  },
  {
   "cell_type": "code",
   "execution_count": 10,
   "id": "4fae1a4d",
   "metadata": {},
   "outputs": [],
   "source": [
    "#create a function that will find each individual speakers sentences for analysis\n",
    "def get_speaker_sentences(speaker):\n",
    "  #this list comprehension concatenates both the path and the file, joining them together to access the files individually if such a file exists in the folder\n",
    "  files = sorted([os.path.join(path, file) for file in nobel_speeches if speaker.lower() in file.lower()])\n",
    "  #the speeches variable holds a list comprehension that uses the earlier read_file function to read the individual file as referenced by the speaker name\n",
    "  speeches = [read_file(file) for file in files]\n",
    "  #uses the earlier function process speech to tokenize the sentences and words while removing punctuation\n",
    "  processed_speeches = process_speeches(speeches)\n",
    "  #uses the earlier merge_speeches function to create a list of all of the sentences in the speech\n",
    "  all_sentences = merge_speeches(processed_speeches)\n",
    "  #returns the sentences for use outside of the function\n",
    "  return all_sentences"
   ]
  },
  {
   "cell_type": "code",
   "execution_count": 11,
   "id": "4c952e08",
   "metadata": {},
   "outputs": [],
   "source": [
    "#call the function and print it to check if it works (can be commented out)\n",
    "speaker_sentences = get_speaker_sentences(\"mother_theresa\")\n",
    "#print(speaker_sentences)"
   ]
  },
  {
   "cell_type": "code",
   "execution_count": 12,
   "id": "cab5f8c4",
   "metadata": {},
   "outputs": [],
   "source": [
    "#create a function that will allow a user to look for most common words among more than one nobel lecturer\n",
    "def get_speakers_sentences(speakers):\n",
    "  #create a new list that we can append tokenized sentences to\n",
    "  all_sentences = list()\n",
    "  #loop through each speaker within speakers\n",
    "  for speaker in speakers:\n",
    "    #this list comprehension concatenates both the path and the file, joining them together to access the files individually if such a file exists in the folder\n",
    "    files = sorted([os.path.join(path, file) for file in nobel_speeches if speaker in file])\n",
    "    #the speeches variable holds a list comprehension that uses the earlier read_file function to read the individual file as referenced by the speaker name\n",
    "    speeches = [read_file(file) for file in files]\n",
    "    #uses the earlier function process speech to tokenize the sentences and words while removing punctuation\n",
    "    processed_speeches = process_speeches(speeches)\n",
    "    #uses the earlier merge_speeches function to create a list of all of the sentences in the speech\n",
    "    all_speaker_sentences = merge_speeches(processed_speeches)\n",
    "    #extend the new list with the list created from the merge_speeches function\n",
    "    all_sentences.extend(all_speaker_sentences)\n",
    "  #return the list of all_sentences for use outside of the function\n",
    "  return all_sentences"
   ]
  },
  {
   "cell_type": "code",
   "execution_count": 13,
   "id": "29f53335",
   "metadata": {},
   "outputs": [],
   "source": [
    "#create a function that can find all of the most frequently used words by speaker(s)\n",
    "def most_frequent_words(list_of_sentences):\n",
    "  #list comprehension finds all of the words in the sentences provided\n",
    "  all_words = [word for sentence in list_of_sentences for word in sentence]\n",
    "  #Counter attribute .most_common() is able to parse through all of the words and find the most common as well as their tally\n",
    "  return Counter(all_words).most_common()"
   ]
  },
  {
   "cell_type": "code",
   "execution_count": 19,
   "id": "add1db88",
   "metadata": {},
   "outputs": [],
   "source": [
    "#call the get_speaker_sentences or get_speakers_sentences function \n",
    "speakers_sentences = get_speakers_sentences([\"barack_obama\", \"mother_theresa\", \"dalai_lama\", \"martin_luther_king\"])\n",
    "#print(speakers_sentences)"
   ]
  },
  {
   "cell_type": "code",
   "execution_count": 16,
   "id": "202f5faf",
   "metadata": {},
   "outputs": [
    {
     "name": "stdout",
     "output_type": "stream",
     "text": [
      "[('the', 481), ('and', 334), ('of', 327), ('to', 275), ('that', 194), ('a', 164), ('i', 149), ('in', 148), ('we', 129), ('is', 128), ('for', 108), ('this', 80), ('–', 74), ('have', 71), ('it', 67), ('are', 67), ('our', 63), ('be', 60), ('not', 58), ('will', 58), ('with', 52), ('but', 50), ('peace', 50), ('as', 49), ('all', 45), ('world', 42), ('who', 42), ('one', 41), ('you', 40), ('love', 40), ('human', 39), ('can', 35), ('on', 35), ('war', 35), ('those', 34), ('us', 34), ('there', 33), ('or', 33), ('must', 33), ('by', 32), ('their', 32), ('they', 29), ('people', 28), ('he', 28), ('what', 27), ('more', 26), ('which', 26), ('so', 26), ('from', 25), ('at', 24), ('when', 24), ('believe', 24), ('child', 24), ('my', 23), ('an', 22), ('if', 22), ('has', 22), ('am', 22), ('was', 22), ('god', 21), ('do', 21), ('these', 20), ('nations', 20), ('no', 20), ('where', 19), ('only', 17), ('children', 17), ('me', 17), ('today', 17), ('accept', 17), ('america', 16), ('been', 16), ('own', 16), ('here', 15), ('between', 15), ('just', 15), ('may', 15), ('she', 15), ('prize', 14), ('than', 14), ('still', 14), ('why', 14), ('because', 13), ('men', 13), ('even', 13), ('like', 13), ('rights', 13), ('many', 13), ('together', 13), ('bring', 13), ('make', 13), ('them', 13), ('loved', 13), ('some', 12), ('about', 12), ('violence', 12), ('live', 12), ('freedom', 12), ('little', 12), ('her', 12), ('poor', 12), ('give', 12), ('hungry', 12), ('yet', 11), ('did', 11), ('most', 11), ('cannot', 11), ('new', 11), ('force', 11), ('know', 11), ('same', 11), ('truth', 11), ('never', 11), ('need', 11), ('true', 11), ('him', 11), ('honor', 10), ('nation', 10), ('other', 10), ('conflict', 10), ('man', 10), ('into', 10), ('life', 10), ('how', 10), ('suffering', 10), ('also', 10), ('without', 10), ('his', 10), ('your', 9), ('great', 9), ('courage', 9), ('wars', 9), ('another', 9), ('beings', 9), ('think', 9), ('years', 9), ('said', 9), ('face', 9), ('let', 9), ('very', 9), ('dignity', 9), ('mother', 9), ('joy', 9), ('being', 9), ('tibet', 9), ('award', 8), ('countries', 8), ('seek', 8), ('such', 8), ('nuclear', 8), ('much', 8), ('poverty', 8), ('work', 8), ('say', 8), ('nature', 8), ('refuse', 8), ('that’s', 8), ('through', 8), ('home', 8), ('religion', 8), ('bread', 8), ('nobel', 7), ('history', 7), ('would', 7), ('then', 7), ('women', 7), ('whose', 7), ('down', 7), ('come', 7), ('were', 7), ('self', 7), ('up', 7), ('gave', 7), ('clear', 7), ('states', 7), ('nothing', 7), ('movement', 7), ('could', 7), ('leaders', 7), ('brought', 7), ('right', 7), ('others', 7), ('understand', 7), ('every', 7), ('faith', 7), ('unborn', 7), ('brotherhood', 7), ('citizens', 6), ('matter', 6), ('effort', 6), ('sense', 6), ('first', 6), ('time', 6), ('different', 6), ('after', 6), ('united', 6), ('long', 6), ('future', 6), ('ago', 6), ('moral', 6), ('lives', 6), ('security', 6), ('recognized', 6), ('enough', 6), ('going', 6), ('want', 6), ('hope', 6), ('china', 6), ('family', 6), ('share', 6), ('see', 6), ('before', 6), ('came', 6), ('naked', 6), ('homeless', 6), ('somebody', 6), ('become', 6), ('forget', 6), ('justice', 5), ('millions', 5), ('military', 5), ('two', 5), ('ourselves', 5), ('land', 5), ('power', 5), ('within', 5), ('justified', 5), ('last', 5), ('civilians', 5), ('way', 5), ('it’s', 5), ('century', 5), ('weapons', 5), ('country', 5), ('civil', 5), ('times', 5), ('necessary', 5), ('mindful', 5), ('alone', 5), ('arms', 5), ('point', 5), ('action', 5), ('international', 5), ('out', 5), ('better', 5), ('don’t', 5), ('confront', 5), ('rules', 5), ('final', 5), ('makes', 5), ('lose', 5), ('something', 5), ('fear', 5), ('always', 5), ('happiness', 5), ('name', 5), ('struggle', 5), ('each', 5), ('moment', 5), ('prayer', 5), ('went', 5), ('die', 5), ('shall', 5), ('understanding', 5), ('good', 5), ('sugar', 5), ('eat', 5), ('behalf', 5), ('receive', 4), ('aspirations', 4), ('compassion', 4), ('find', 4), ('fact', 4), ('defend', 4), ('thousands', 4), ('kill', 4), ('killed', 4), ('now', 4), ('its', 4), ('over', 4), ('law', 4), ('ways', 4), ('pray', 4), ('hard', 4), ('cause', 4), ('destruction', 4), ('institutions', 4), ('prevent', 4), ('idea', 4), ('led', 4), ('protect', 4), ('efforts', 4), ('yes', 4), ('ideals', 4), ('determination', 4), ('rule', 4), ('few', 4), ('things', 4), ('problems', 4), ('begin', 4), ('king', 4), ('stands', 4), ('stand', 4), ('made', 4), ('president', 4), ('based', 4), ('evolution', 4), ('might', 4), ('afghanistan', 4), ('principle', 4), ('road', 4), ('responsibility', 4), ('three', 4), ('oppression', 4), ('universal', 4), ('development', 4), ('free', 4), ('try', 4), ('opportunity', 4), ('heart', 4), ('place', 4), ('thank', 4), ('beautiful', 4), ('proclaim', 4), ('feel', 4), ('spirit', 4), ('jesus', 4), ('giving', 4), ('everywhere', 4), ('piece', 4), ('afraid', 4), ('days', 4), ('whole', 4), ('nonviolence', 4), ('mankind', 4), ('members', 3), ('committee', 3), ('mere', 3), ('part', 3), ('end', 3), ('received', 3), ('around', 3), ('pursuit', 3), ('perhaps', 3), ('profound', 3), ('joined', 3), ('attacks', 3), ('i’m', 3), ('young', 3), ('difficult', 3), ('questions', 3), ('concept', 3), ('met', 3), ('possible', 3), ('rarely', 3), ('capacity', 3), ('became', 3), ('third', 3), ('number', 3), ('keep', 3), ('plan', 3), ('committed', 3), ('lifted', 3), ('equality', 3), ('past', 3), ('threats', 3), ('murder', 3), ('given', 3), ('movements', 3), ('today’s', 3), ('torn', 3), ('decades', 3), ('violent', 3), ('use', 3), ('morally', 3), ('merely', 3), ('non', 3), ('there’s', 3), ('gandhi', 3), ('state', 3), ('evil', 3), ('does', 3), ('exist', 3), ('sometimes', 3), ('recognition', 3), ('global', 3), ('strength', 3), ('sacrifice', 3), ('democracy', 3), ('take', 3), ('places', 3), ('role', 3), ('play', 3), ('expression', 3), ('practical', 3), ('strong', 3), ('standards', 3), ('any', 3), ('convinced', 3), ('continues', 3), ('defense', 3), ('appear', 3), ('important', 3), ('later', 3), ('america’s', 3), ('continue', 3), ('oslo', 3), ('fight', 3), ('choose', 3), ('turn', 3), ('lasting', 3), ('laws', 3), ('change', 3), ('mean', 3), ('pressure', 3), ('middle', 3), ('treaty', 3), ('respect', 3), ('eyes', 3), ('care', 3), ('east', 3), ('themselves', 3), ('choice', 3), ('too', 3), ('values', 3), ('europe', 3), ('engagement', 3), ('door', 3), ('cultural', 3), ('created', 3), ('simple', 3), ('best', 3), ('clean', 3), ('society', 3), ('among', 3), ('holy', 3), ('humanity', 3), ('despair', 3), ('man’s', 3), ('eternal', 3), ('somewhere', 3), ('strive', 3), ('earth', 3), ('loving', 3), ('dying', 3), ('blessed', 3), ('mary', 3), ('christ', 3), ('wanted', 3), ('sure', 3), ('forgotten', 3), ('unloved', 3), ('uncared', 3), ('nobody', 3), ('having', 3), ('hand', 3), ('greatest', 3), ('street', 3), ('ask', 3), ('house', 3), ('homes', 3), ('taught', 3), ('had', 3), ('until', 3), ('again', 3), ('reality', 3), ('rice', 3), ('hunger', 3), ('back', 3), ('surprised', 3), ('day', 3), ('nonviolent', 3), ('suffer', 3), ('chinese', 3), ('negroes', 3), ('creative', 3), ('yesterday', 3), ('overcome', 3), ('civilization', 3), ('precious', 3), ('beauty', 3), ('majesties', 2), ('royal', 2), ('deep', 2), ('gratitude', 2), ('speaks', 2), ('actions', 2), ('acknowledge', 2), ('marshall', 2), ('humanitarian', 2), ('quiet', 2), ('known', 2), ('chief', 2), ('norway', 2), ('responsible', 2), ('americans', 2), ('battle', 2), ('armed', 2), ('relationship', 2), ('appeared', 2), ('simply', 2), ('drought', 2), ('sought', 2), ('control', 2), ('“just', 2), ('war”', 2), ('certain', 2), ('used', 2), ('course', 2), ('look', 2), ('armies', 2), ('total', 2), ('engulf', 2), ('ii', 2), ('died', 2), ('soldiers', 2), ('wake', 2), ('age', 2), ('alike', 2), ('architecture', 2), ('govern', 2), ('treaties', 2), ('genocide', 2), ('fought', 2), ('advanced', 2), ('generations', 2), ('decade', 2), ('old', 2), ('under', 2), ('risk', 2), ('terrorism', 2), ('modern', 2), ('innocents', 2), ('increasingly', 2), ('failed', 2), ('societies', 2), ('asunder', 2), ('scarred', 2), ('meeting', 2), ('require', 2), ('acknowledging', 2), ('brings', 2), ('social', 2), ('direct', 2), ('dr', 2), ('living', 2), ('weak', 2), ('head', 2), ('negotiations', 2), ('call', 2), ('reason', 2), ('ambivalence', 2), ('world’s', 2), ('remember', 2), ('whatever', 2), ('mistakes', 2), ('helped', 2), ('six', 2), ('blood', 2), ('service', 2), ('prosperity', 2), ('korea', 2), ('balkans', 2), ('burden', 2), ('impose', 2), ('interest', 2), ('grandchildren', 2), ('challenge', 2), ('task', 2), ('kennedy', 2), ('gradual', 2), ('act', 2), ('adhering', 2), ('support', 2), ('aggression', 2), ('insist', 2), ('follow', 2), ('purpose', 2), ('extends', 2), ('against', 2), ('government', 2), ('entire', 2), ('lead', 2), ('intervention', 2), ('embrace', 2), ('commitment', 2), ('secure', 2), ('famine', 2), ('unstable', 2), ('nato', 2), ('friends', 2), ('popular', 2), ('peacekeeping', 2), ('wagers', 2), ('decisions', 2), ('red', 2), ('cross', 2), ('geneva', 2), ('conventions', 2), ('conduct', 2), ('remain', 2), ('whom', 2), ('prison', 2), ('upholding', 2), ('question', 2), ('minds', 2), ('avoid', 2), ('choices', 2), ('speak', 2), ('build', 2), ('break', 2), ('develop', 2), ('words', 2), ('regimes', 2), ('sanctions', 2), ('example', 2), ('spread', 2), ('bound', 2), ('access', 2), ('foreign', 2), ('reduce', 2), ('upon', 2), ('iran', 2), ('north', 2), ('danger', 2), ('race', 2), ('systematic', 2), ('consequences', 2), ('diplomacy', 2), ('fail', 2), ('second', 2), ('absence', 2), ('truly', 2), ('somehow', 2), ('tension', 2), ('interests', 2), ('reject', 2), ('worship', 2), ('tribal', 2), ('governments', 2), ('culture', 2), ('witness', 2), ('streets', 2), ('repressive', 2), ('forward', 2), ('path', 2), ('open', 2), ('light', 2), ('labor', 2), ('eastern', 2), ('balance', 2), ('political', 2), ('economic', 2), ('takes', 2), ('education', 2), ('feed', 2), ('educate', 2), ('mass', 2), ('common', 2), ('bringing', 2), ('we’re', 2), ('basically', 2), ('seeking', 2), ('chance', 2), ('families', 2), ('comes', 2), ('identities', 2), ('moving', 2), ('ever', 2), ('divine', 2), ('one’s', 2), ('view', 2), ('incompatible', 2), ('unto', 2), ('condition', 2), ('reach', 2), ('fundamental', 2), ('progress', 2), ('journey', 2), ('occasion', 2), ('response', 2), ('ambiguities', 2), ('present', 2), ('incapable', 2), ('reaching', 2), ('forever', 2), ('confronts', 2), ('poorest', 2), ('brothers', 2), ('sisters', 2), ('gathered', 2), ('gift', 2), ('got', 2), ('lord', 2), ('hatred', 2), ('virgin', 2), ('keeps', 2), ('means', 2), ('death', 2), ('himself', 2), ('personally', 2), ('able', 2), ('happy', 2), ('unwanted', 2), ('news', 2), ('front', 2), ('beautifully', 2), ('womb', 2), ('left', 2), ('carved', 2), ('read', 2), ('numbers', 2), ('ones', 2), ('abortion', 2), ('born', 2), ('doing', 2), ('found', 2), ('god’s', 2), ('well', 2), ('maybe', 2), ('hurt', 2), ('teresa', 2), ('hindu', 2), ('hurts', 2), ('eaten', 2), ('crumb', 2), ('took', 2), ('answer', 2), ('knew', 2), ('next', 2), ('neighbor', 2), ('turning', 2), ('night', 2), ('majesty', 2), ('monk', 2), ('altruism', 2), ('teachings', 2), ('buddha', 2), ('india', 2), ('inspired', 2), ('million', 2), ('tibetan', 2), ('brave', 2), ('peoples', 2), ('africa', 2), ('brutal', 2), ('year', 2), ('impact', 2), ('tibetans', 2), ('once', 2), ('restoration', 2), ('inflict', 2), ('occasions', 2), ('included', 2), ('sanctuary', 2), ('both', 2), ('although', 2), ('trust', 2), ('happily', 2), ('buddhist', 2), ('concern', 2), ('sentient', 2), ('ignorance', 2), ('pain', 2), ('achieved', 2), ('science', 2), ('crucial', 2), ('reign', 2), ('alabama', 2), ('mississippi', 2), ('sooner', 2), ('discover', 2), ('…', 2), ('method', 2), ('triumphant', 2), ('centered', 2), ('genuine', 2), ('trustee', 2), ('pilots', 2), ('ground', 2), ('crew', 2), ('diamonds', 2), ('silver', 2), ('gold', 2), ('highnesses', 1), ('distinguished', 1), ('norwegian', 1), ('humility', 1), ('highest', 1), ('cruelty', 1), ('hardship', 1), ('prisoners', 1), ('fate', 1), ('bend', 1), ('direction', 1), ('remiss', 1), ('considerable', 1), ('controversy', 1), ('generous', 1), ('decision', 1), ('generated', 1), ('beginning', 1), ('labors', 1), ('stage', 1), ('compared', 1), ('giants', 1), ('who’ve', 1), ('schweitzer', 1), ('king;', 1), ('mandela', 1), ('accomplishments', 1), ('slight', 1), ('jailed', 1), ('beaten', 1), ('justice;', 1), ('toil', 1), ('organizations', 1), ('relieve', 1), ('suffering;', 1), ('unrecognized', 1), ('acts', 1), ('inspire', 1), ('hardened', 1), ('cynics', 1), ('argue', 1), ('obscure', 1), ('help', 1), ('far', 1), ('deserving', 1), ('issue', 1), ('surrounding', 1), ('receipt', 1), ('commander', 1), ('midst', 1), ('winding', 1), ('seek;', 1), ('42', 1), ('including', 1), ('further', 1), ('deployment', 1), ('distant', 1), ('acute', 1), ('costs', 1), ('filled', 1), ('replace', 1), ('form', 1), ('dawn', 1), ('morality', 1), ('questioned;', 1), ('disease', 1), ('manner', 1), ('tribes', 1), ('civilizations', 1), ('settled', 1), ('differences', 1), ('codes', 1), ('groups', 1), ('philosophers', 1), ('clerics', 1), ('statesmen', 1), ('regulate', 1), ('destructive', 1), ('emerged', 1), ('suggesting', 1), ('conditions', 1), ('waged', 1), ('resort', 1), ('defense;', 1), ('proportional;', 1), ('whenever', 1), ('spared', 1), ('observed', 1), ('proved', 1), ('inexhaustible', 1), ('exempt', 1), ('mercy', 1), ('distinction', 1), ('combatant', 1), ('civilian', 1), ('blurred', 1), ('span', 1), ('30', 1), ('carnage', 1), ('twice', 1), ('continent', 1), ('while', 1), ('conceive', 1), ('defeat', 1), ('reich', 1), ('axis', 1), ('powers', 1), ('exceeded', 1), ('perished', 1), ('advent', 1), ('victor', 1), ('vanquished', 1), ('needed', 1), ('quarter', 1), ('senate', 1), ('rejected', 1), ('league', 1), ('woodrow', 1), ('wilson', 1), ('constructing', 1), ('mechanisms', 1), ('waging', 1), ('restrict', 1), ('dangerous', 1), ('succeeded', 1), ('terrible', 1), ('atrocities', 1), ('cold', 1), ('ended', 1), ('jubilant', 1), ('crowds', 1), ('dismantling', 1), ('wall', 1), ('commerce', 1), ('stitched', 1), ('billions', 1), ('liberty', 1), ('haltingly', 1), ('heirs', 1), ('fortitude', 1), ('foresight', 1), ('legacy', 1), ('rightfully', 1), ('proud', 1), ('buckling', 1), ('weight', 1), ('longer', 1), ('shudder', 1), ('prospect', 1), ('superpowers', 1), ('proliferation', 1), ('increase', 1), ('catastrophe', 1), ('tactic', 1), ('technology', 1), ('allows', 1), ('small', 1), ('outsized', 1), ('rage', 1), ('horrific', 1), ('scale', 1), ('moreover', 1), ('resurgence', 1), ('ethnic', 1), ('sectarian', 1), ('conflicts;', 1), ('growth', 1), ('secessionist', 1), ('insurgencies', 1), ('trapped', 1), ('unending', 1), ('chaos', 1), ('soldiers;', 1), ('seeds', 1), ('sown', 1), ('economies', 1), ('wrecked', 1), ('refugees', 1), ('amassed', 1), ('definitive', 1), ('solution', 1), ('challenges', 1), ('vision', 1), ('persistence', 1), ('acted', 1), ('boldly', 1), ('notions', 1), ('imperatives', 1), ('eradicate', 1), ('lifetimes', 1), ('acting', 1), ('individually', 1), ('concert', 1), ('statement', 1), ('martin', 1), ('luther', 1), ('jr', 1), ('ceremony', 1), ('“violence', 1), ('permanent', 1), ('solves', 1), ('problem', 1), ('creates', 1), ('complicated', 1), ('ones.”', 1), ('someone', 1), ('consequence', 1), ('king’s', 1), ('testimony', 1), ('passive', 1), ('naïve', 1), ('creed', 1), ('sworn', 1), ('guided', 1), ('examples', 1), ('idle', 1), ('american', 1), ('mistake', 1), ('halted', 1), ('hitler’s', 1), ('convince', 1), ('al', 1), ('qaeda’s', 1), ('lay', 1), ('cynicism', 1), ('history;', 1), ('imperfections', 1), ('limits', 1), ('raise', 1), ('reflexive', 1), ('suspicion', 1), ('sole', 1), ('superpower', 1), ('declarations', 1), ('stability', 1), ('post', 1), ('plain', 1), ('underwrite', 1), ('uniform', 1), ('promoted', 1), ('germany', 1), ('enabled', 1), ('hold', 1), ('borne', 1), ('done', 1), ('enlightened', 1), ('others’', 1), ('instruments', 1), ('preserving', 1), ('coexist', 1), ('promises', 1), ('tragedy', 1), ('soldier’s', 1), ('full', 1), ('glory', 1), ('expressing', 1), ('devotion', 1), ('comrades', 1), ('itself', 1), ('glorious', 1), ('trumpet', 1), ('reconciling', 1), ('seemingly', 1), ('inreconcilable', 1), ('truths', 1), ('level', 1), ('folly', 1), ('concretely', 1), ('called', 1), ('“let', 1), ('focus”', 1), ('“on', 1), ('attainable', 1), ('sudden', 1), ('revolution', 1), ('institutions.”', 1), ('steps', 1), ('adhere', 1), ('reserve', 1), ('unilaterally', 1), ('nevertheless', 1), ('strengthens', 1), ('isolates', 1), ('weakens', 1), ('rallied', 1), ('9/11', 1), ('horror', 1), ('senseless', 1), ('likewise', 1), ('saddam', 1), ('hussein', 1), ('invaded', 1), ('kuwait', 1), ('consensus', 1), ('sent', 1), ('message', 1), ('cost', 1), ('furthermore', 1), ('arbitrary', 1), ('undercut', 1), ('legitimacy', 1), ('interventions', 1), ('becomes', 1), ('particularly', 1), ('beyond', 1), ('aggressor', 1), ('slaughter', 1), ('stop', 1), ('region', 1), ('grounds', 1), ('inaction', 1), ('tears', 1), ('conscience', 1), ('costly', 1), ('militaries', 1), ('mandate', 1), ('waver', 1), ('diffuse', 1), ('missions', 1), ('complex', 1), ('somalia', 1), ('piracy', 1), ('sadly', 1), ('regions', 1), ('allies', 1), ('demonstrate', 1), ('they’ve', 1), ('shown', 1), ('disconnect', 1), ('serve', 1), ('broader', 1), ('public', 1), ('belief', 1), ('desirable', 1), ('achieve', 1), ('requires', 1), ('entails', 1), ('indispensable', 1), ('strengthen', 1), ('u.n', 1), ('regional', 1), ('leave', 1), ('return', 1), ('training', 1), ('abroad', 1), ('rome;', 1), ('ottawa', 1), ('sydney;', 1), ('dhaka', 1), ('kigali', 1), ('makers', 1), ('clearly', 1), ('awarding', 1), ('henry', 1), ('dunant', 1), ('founder', 1), ('driving', 1), ('behind', 1), ('strategic', 1), ('binding', 1), ('vicious', 1), ('adversary', 1), ('abides', 1), ('standard', 1), ('bearer', 1), ('source', 1), ('prohibited', 1), ('torture', 1), ('ordered', 1), ('guantanamo', 1), ('bay', 1), ('closed', 1), ('reaffirmed', 1), ('abide', 1), ('compromise', 1), ('easy', 1), ('spoken', 1), ('length', 1), ('weigh', 1), ('hearts', 1), ('wage', 1), ('tragic', 1), ('dealing', 1), ('alternatives', 1), ('tough', 1), ('actually', 1), ('behavior', 1), ('community', 1), ('held', 1), ('accountable', 1), ('exact', 1), ('real', 1), ('price', 1), ('intransigence', 1), ('increased', 1), ('exists', 1), ('urgent', 1), ('agreed', 1), ('bargain', 1), ('peaceful', 1), ('power;', 1), ('forsake', 1), ('them;', 1), ('towards', 1), ('disarmament', 1), ('centerpiece', 1), ('policy', 1), ('working', 1), ('medvedev', 1), ('russia’s', 1), ('stockpiles', 1), ('incumbent', 1), ('game', 1), ('system', 1), ('claim', 1), ('avert', 1), ('flouted', 1), ('ignore', 1), ('asia', 1), ('idly', 1), ('arm', 1), ('applies', 1), ('violate', 1), ('brutalizing', 1), ('darfur', 1), ('rape', 1), ('congo', 1), ('repression', 1), ('burma', 1), ('engagement;', 1), ('closer', 1), ('less', 1), ('likely', 1), ('faced', 1), ('complicity', 1), ('visible', 1), ('inherent', 1), ('individual', 1), ('insight', 1), ('drove', 1), ('drafters', 1), ('declaration', 1), ('devastation', 1), ('protected', 1), ('hollow', 1), ('promise', 1), ('often', 1), ('ignored', 1), ('failure', 1), ('uphold', 1), ('excused', 1), ('false', 1), ('suggestion', 1), ('western', 1), ('principles', 1), ('local', 1), ('cultures', 1), ('stages', 1), ('nation’s', 1), ('describe', 1), ('realists', 1), ('idealists', 1), ('suggests', 1), ('stark', 1), ('narrow', 1), ('endless', 1), ('campaign', 1), ('denied', 1), ('freely', 1), ('please;', 1), ('assemble', 1), ('pent', 1), ('grievances', 1), ('fester', 1), ('suppression', 1), ('religious', 1), ('identity', 1), ('opposite', 1), ('finally', 1), ('closest', 1), ('callously', 1), ('defined', 1), ('neither', 1), ('nor', 1), ('served', 1), ('denial', 1), ('unique', 1), ('traditions', 1), ('voice', 1), ('bear', 1), ('reformers', 1), ('aung', 1), ('sang', 1), ('suu', 1), ('kyi;', 1), ('bravery', 1), ('zimbabweans', 1), ('cast', 1), ('ballots', 1), ('beatings;', 1), ('hundreds', 1), ('marched', 1), ('silently', 1), ('telling', 1), ('side', 1), ('promotion', 1), ('exhortation', 1), ('coupled', 1), ('painstaking', 1), ('lacks', 1), ('satisfying', 1), ('purity', 1), ('indignation', 1), ('outreach', 1), ('condemnation', 1), ('discussion', 1), ('carry', 1), ('crippling', 1), ('status', 1), ('quo', 1), ('regime', 1), ('move', 1), ('unless', 1), ('revolution’s', 1), ('horrors', 1), ('nixon’s', 1), ('mao', 1), ('inexcusable', 1), ('surely', 1), ('set', 1), ('connected', 1), ('pope', 1), ('john', 1), ('paul’s', 1), ('poland', 1), ('space', 1), ('catholic', 1), ('church', 1), ('lech', 1), ('walesa', 1), ('ronald', 1), ('reagan’s', 1), ('perestroika', 1), ('improved', 1), ('relations', 1), ('soviet', 1), ('union', 1), ('empowered', 1), ('dissidents', 1), ('throughout', 1), ('formula', 1), ('isolation', 1), ('incentives', 1), ('includes', 1), ('encompass', 1), ('undoubtedly', 1), ('root', 1), ('security;', 1), ('food', 1), ('water', 1), ('medicine', 1), ('shelter', 1), ('survive', 1), ('can’t', 1), ('aspire', 1), ('decent', 1), ('job', 1), ('supports', 1), ('rot', 1), ('helping', 1), ('farmers', 1), ('sick', 1), ('charity', 1), ('climate', 1), ('scientific', 1), ('dispute', 1), ('displacement', 1), ('fuel', 1), ('scientists', 1), ('environmental', 1), ('activists', 1), ('swift', 1), ('forceful', 1), ('hangs', 1), ('agreements', 1), ('investments', 1), ('vital', 1), ('ingredients', 1), ('spoke', 1), ('staying', 1), ('complete', 1), ('continued', 1), ('expansion', 1), ('imagination;', 1), ('insistence', 1), ('irreducible', 1), ('grows', 1), ('smaller', 1), ('easier', 1), ('recognize', 1), ('similar', 1), ('are;', 1), ('things;', 1), ('measure', 1), ('fulfillment', 1), ('dizzying', 1), ('pace', 1), ('globalization', 1), ('leveling', 1), ('modernity', 1), ('surprise', 1), ('loss', 1), ('cherish', 1), ('particular', 1), ('tribe', 1), ('powerfully', 1), ('feels', 1), ('backwards', 1), ('arabs', 1), ('jews', 1), ('seems', 1), ('harden', 1), ('lines', 1), ('dangerously', 1), ('justify', 1), ('distorted', 1), ('defiled', 1), ('islam', 1), ('attacked', 1), ('extremists', 1), ('god;', 1), ('cruelties', 1), ('crusades', 1), ('amply', 1), ('recorded', 1), ('remind', 1), ('carrying', 1), ('restraint', 1), ('spare', 1), ('pregnant', 1), ('medic', 1), ('worker', 1), ('person', 1), ('warped', 1), ('lies', 1), ('major', 1), ('core', 1), ('fallible', 1), ('fall', 1), ('victim', 1), ('temptations', 1), ('pride', 1), ('intentions', 1), ('wrongs', 1), ('perfect', 1), ('perfected', 1), ('idealized', 1), ('practiced', 1), ('circumstance', 1), ('preached', 1), ('star', 1), ('guides', 1), ('dismiss', 1), ('silly', 1), ('naïve;', 1), ('divorce', 1), ('issues', 1), ('what’s', 1), ('possibility', 1), ('compass', 1), ('“i', 1), ('‘isness’', 1), ('‘oughtness’', 1), ('him.”', 1), ('ought', 1), ('spark', 1), ('stirs', 1), ('souls', 1), ('soldier', 1), ('sees', 1), ('he’s', 1), ('outgunned', 1), ('firm', 1), ('protestor', 1), ('awaits', 1), ('brutality', 1), ('march', 1), ('facing', 1), ('punishing', 1), ('teach', 1), ('scrapes', 1), ('coins', 1), ('send', 1), ('school', 1), ('believes', 1), ('cruel', 1), ('child’s', 1), ('dreams', 1), ('admit', 1), ('intractability', 1), ('depravation', 1), ('eyed', 1), ('story', 1), ('progress;', 1), ('world;', 1), ('spreading', 1), ('st', 1), ('francis', 1), ('assisi', 1), ('prayed', 1), ('wonder', 1), ('felt', 1), ('paper', 1), ('we’ll', 1), ('channel', 1), ('love;', 1), ('wrong', 1), ('forgiveness;', 1), ('discord', 1), ('harmony;', 1), ('error', 1), ('truth;', 1), ('doubt', 1), ('faith;', 1), ('hope;', 1), ('shadows', 1), ('light;', 1), ('sadness', 1), ('grant', 1), ('rather', 1), ('comfort', 1), ('comforted;', 1), ('understood;', 1), ('forgetting', 1), ('finds', 1), ('forgiving', 1), ('forgiven', 1), ('awakens', 1), ('amen', 1), ('son', 1), ('haste', 1), ('handmaid', 1), ('kept', 1), ('saying', 1), ('hour', 1), ('judged', 1), ('cloth', 1), ('room', 1), ('touch', 1), ('says', 1), ('least', 1), ('brethren', 1), ('holiness', 1), ('luxury', 1), ('duty', 1), ('reward', 1), ('unworthy', 1), ('avowed', 1), ('grateful', 1), ('crippled', 1), ('blind', 1), ('leprous', 1), ('thrown', 1), ('away', 1), ('ashamed', 1), ('everybody', 1), ('rich', 1), ('insisted', 1), ('wanting', 1), ('loves', 1), ('lovable', 1), ('pity', 1), ('sympathy', 1), ('respect;', 1), ('treat', 1), ('experience', 1), ('covered', 1), ('maggots;', 1), ('sentence', 1), ('lived', 1), ('animal', 1), ('angel', 1), ('dead', 1), ('enjoyed', 1), ('thing', 1), ('destroyer', 1), ('cry', 1), ('innocent', 1), ('scripture', 1), ('written', 1), ('palm', 1), ('newspapers', 1), ('destroyed', 1), ('conceived', 1), ('allow', 1), ('legalized', 1), ('presence', 1), ('visit', 1), ('elizabeth', 1), ('cousin', 1), ('gospel', 1), ('lift', 1), ('prince', 1), ('resolution', 1), ('save', 1), ('fighting', 1), ('adoption', 1), ('saved', 1), ('cared', 1), ('grace', 1), ('blessing', 1), ('isn’t', 1), ('begins', 1), ('lesson', 1), ('heard', 1), ('calcutta', 1), ('boy', 1), ('four', 1), ('told', 1), ('parents', 1), ('scarcely', 1), ('pronounce', 1), ('haven’t', 1), ('sometime', 1), ('sound', 1), ('strange', 1), ('girl', 1), ('knows', 1), ('started', 1), ('eating', 1), ('looked', 1), ('finished', 1), ('greatness', 1), ('evening', 1), ('gentleman', 1), ('eight', 1), ('immediately', 1), ('faces', 1), ('shining', 1), ('sheer', 1), ('divided', 1), ('asked', 1), ('go', 1), ('muslim', 1), ('else', 1), ('enjoy', 1), ('stay', 1), ('foot', 1), ('really', 1), ('naturally', 1), ('join', 1), ('bless', 1), ('honoured', 1), ('humbled', 1), ('deeply', 1), ('moved', 1), ('should', 1), ('special', 1), ('practise', 1), ('accordance', 1), ('sages', 1), ('oppressed', 1), ('tribute', 1), ('founded', 1), ('tradition', 1), ('mahatma', 1), ('countrymen', 1), ('inside', 1), ('suffered', 1), ('calculated', 1), ('strategy', 1), ('aimed', 1), ('national', 1), ('reaffirms', 1), ('conviction', 1), ('liberated', 1), ('basic', 1), ('needs', 1), ('concerns', 1), ('determine', 1), ('destiny', 1), ('individuals', 1), ('changes', 1), ('taking', 1), ('indication', 1), ('crushed', 1), ('june', 1), ('demonstrations', 1), ('vain', 1), ('rekindled', 1), ('escape', 1), ('sweeping', 1), ('parts', 1), ('students', 1), ('supporters', 1), ('showed', 1), ('leadership', 1), ('week', 1), ('sentenced', 1), ('terms', 1), ('nineteen', 1), ('show', 1), ('trial', 1), ('possibly', 1), ('intended', 1), ('frighten', 1), ('population', 1), ('event', 1), ('“crime”', 1), ('widespread', 1), ('desire', 1), ('beloved', 1), ('country’s', 1), ('independence', 1), ('during', 1), ('forty', 1), ('occupation', 1), ('documented', 1), ('ours', 1), ('breed', 1), ('trying', 1), ('mind', 1), ('proposed', 1), ('numerous', 1), ('1987', 1), ('specific', 1), ('proposals', 1), ('five', 1), ('conversion', 1), ('plateau', 1), ('zone', 1), ('ahimsa', 1), ('harmony', 1), ('elaborated', 1), ('strasbourg', 1), ('european', 1), ('parliament', 1), ('ideas', 1), ('expressed', 1), ('realistic', 1), ('reasonable', 1), ('criticised', 1), ('conciliatory', 1), ('unfortunately', 1), ('china’s', 1), ('responded', 1), ('positively', 1), ('suggestions', 1), ('concessions', 1), ('compelled', 1), ('reconsider', 1), ('position', 1), ('mutual', 1), ('benefit', 1), ('wise', 1), ('rulers', 1), ('laid', 1), ('early', 1), ('823', 1), ('a.d', 1), ('pillar', 1), ('jo', 1), ('khang', 1), ('tibet’s', 1), ('holiest', 1), ('shrine', 1), ('lhasa', 1), ('“tibetans', 1), ('china”', 1), ('indeed', 1), ('caused', 1), ('selfish', 1), ('satisfaction', 1), ('inner', 1), ('contentment', 1), ('cultivation', 1), ('elimination', 1), ('selfishness', 1), ('greed', 1), ('conflicts', 1), ('resolved', 1), ('sisterhood', 1), ('cultivate', 1), ('planet', 1), ('helpful', 1), ('generating', 1), ('consider', 1), ('enemies', 1), ('everyone', 1), ('growing', 1), ('spirituality', 1), ('greater', 1), ('reminding', 1), ('contradiction', 1), ('gives', 1), ('valuable', 1), ('insights', 1), ('tell', 1), ('unity', 1), ('positive', 1), ('decisive', 1), ('pressing', 1), ('environment', 1), ('religions', 1), ('pursue', 1), ('goals', 1), ('cultivating', 1), ('goodness', 1), ('though', 1), ('ends', 1), ('enter', 1), ('optimistic', 1), ('ancient', 1), ('sustained', 1), ('reaffirming', 1), ('prepare', 1), ('kinder', 1), ('happier', 1), ('twenty', 1), ('oppressor', 1), ('friend', 1), ('succeed', 1), ('building', 1), ('highness', 1), ('mr', 1), ('excellencies', 1), ('ladies', 1), ('gentlemen', 1), ('22', 1), ('engaged', 1), ('racial', 1), ('injustice', 1), ('majestic', 1), ('scorn', 1), ('establish', 1), ('birmingham', 1), ('crying', 1), ('answered', 1), ('fire', 1), ('hoses', 1), ('snarling', 1), ('dogs', 1), ('philadelphia', 1), ('vote', 1), ('brutalized', 1), ('murdered', 1), ('40', 1), ('houses', 1), ('bombed', 1), ('burned', 1), ('offered', 1), ('segregation', 1), ('debilitating', 1), ('grinding', 1), ('afflicts', 1), ('chains', 1), ('lowest', 1), ('rung', 1), ('ladder', 1), ('therefore', 1), ('awarded', 1), ('beleaguered', 1), ('unrelenting', 1), ('struggle;', 1), ('won', 1), ('essence', 1), ('contemplation', 1), ('conclude', 1), ('resorting', 1), ('antithetical', 1), ('concepts', 1), ('following', 1), ('demonstrated', 1), ('sterile', 1), ('passivity', 1), ('powerful', 1), ('transformation', 1), ('thereby', 1), ('transform', 1), ('pending', 1), ('cosmic', 1), ('elegy', 1), ('psalm', 1), ('evolve', 1), ('rejects', 1), ('revenge', 1), ('retaliation', 1), ('foundation', 1), ('tortuous', 1), ('montgomery', 1), ('bears', 1), ('travelling', 1), ('opened', 1), ('era', 1), ('bill', 1), ('widened', 1), ('lengthened', 1), ('super', 1), ('highway', 1), ('negro', 1), ('white', 1), ('increasing', 1), ('create', 1), ('alliances', 1), ('abiding', 1), ('audacious', 1), ('“isness”', 1), ('“oughtness”', 1), ('flotsom', 1), ('jetsom', 1), ('river', 1), ('unable', 1), ('influence', 1), ('unfolding', 1), ('events', 1), ('surround', 1), ('tragically', 1), ('starless', 1), ('midnight', 1), ('racism', 1), ('bright', 1), ('daybreak', 1), ('cynical', 1), ('notion', 1), ('spiral', 1), ('militaristic', 1), ('stairway', 1), ('hell', 1), ('thermonuclear', 1), ('unarmed', 1), ('unconditional', 1), ('word', 1), ('temporarily', 1), ('defeated', 1), ('stronger', 1), ('amid', 1), ('mortar', 1), ('bursts', 1), ('whining', 1), ('bullets', 1), ('brighter', 1), ('tomorrow', 1), ('wounded', 1), ('lying', 1), ('prostrate', 1), ('flowing', 1), ('dust', 1), ('shame', 1), ('supreme', 1), ('audacity', 1), ('meals', 1), ('bodies', 1), ('spirits', 1), ('bow', 1), ('altars', 1), ('crowned', 1), ('bloodshed', 1), ('redemptive', 1), ('“and', 1), ('lion', 1), ('lamb', 1), ('lie', 1), ('sit', 1), ('vine', 1), ('fig', 1), ('tree', 1), ('none', 1), ('afraid.”', 1), ('uncertainties', 1), ('tired', 1), ('feet', 1), ('stride', 1), ('toward', 1), ('city', 1), ('dreary', 1), ('low', 1), ('hovering', 1), ('clouds', 1), ('nights', 1), ('darker', 1), ('thousand', 1), ('midnights', 1), ('turmoil', 1), ('struggling', 1), ('renewed', 1), ('dedication', 1), ('depths', 1), ('aware', 1), ('flight', 1), ('successful', 1), ('unknown', 1), ('dedicated', 1), ('sat', 1), ('controls', 1), ('soared', 1), ('orbit', 1), ('lutuli', 1), ('south', 1), ('struggles', 1), ('inhumanity', 1), ('sacrifices', 1), ('jet', 1), ('flights', 1), ('headline', 1), ('names', 1), ('who’s', 1), ('rolled', 1), ('blazing', 1), ('focused', 1), ('marvellous', 1), ('finer', 1), ('noble', 1), ('humble', 1), ('willing', 1), ('righteousness’', 1), ('sake', 1), ('alfred', 1), ('curator', 1), ('heirloom', 1), ('holds', 1), ('owners', 1)]\n"
     ]
    }
   ],
   "source": [
    "#call the function and print it to make sure it works (can be commented out)\n",
    "speakers_freq_words = most_frequent_words(speakers_sentences)\n",
    "#print(speakers_freq_words)"
   ]
  }
 ],
 "metadata": {
  "kernelspec": {
   "display_name": "Python 3.10.6 64-bit",
   "language": "python",
   "name": "python3"
  },
  "language_info": {
   "codemirror_mode": {
    "name": "ipython",
    "version": 3
   },
   "file_extension": ".py",
   "mimetype": "text/x-python",
   "name": "python",
   "nbconvert_exporter": "python",
   "pygments_lexer": "ipython3",
   "version": "3.10.6"
  },
  "vscode": {
   "interpreter": {
    "hash": "aee8b7b246df8f9039afb4144a1f6fd8d2ca17a180786b69acc140d282b71a49"
   }
  }
 },
 "nbformat": 4,
 "nbformat_minor": 5
}
